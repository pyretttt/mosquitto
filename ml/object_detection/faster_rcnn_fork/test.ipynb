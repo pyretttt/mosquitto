{
 "cells": [
  {
   "cell_type": "code",
   "execution_count": 9,
   "id": "426fbdb3",
   "metadata": {},
   "outputs": [],
   "source": [
    "import torch"
   ]
  },
  {
   "cell_type": "code",
   "execution_count": 10,
   "id": "203093eb",
   "metadata": {},
   "outputs": [],
   "source": [
    "import torch\n",
    "from typing import Optional\n",
    "from ab import assign_target_to_regions\n",
    "\n",
    "def get_iou(boxes1, boxes2):\n",
    "    r\"\"\"\n",
    "    IOU between two sets of boxes\n",
    "    :param boxes1: (Tensor of shape N x 4)\n",
    "    :param boxes2: (Tensor of shape M x 4)\n",
    "    :return: IOU matrix of shape N x M\n",
    "    \"\"\"\n",
    "    # Area of boxes (x2-x1)*(y2-y1)\n",
    "    area1 = (boxes1[:, 2] - boxes1[:, 0]) * (boxes1[:, 3] - boxes1[:, 1])  # (N,)\n",
    "    area2 = (boxes2[:, 2] - boxes2[:, 0]) * (boxes2[:, 3] - boxes2[:, 1])  # (M,)\n",
    "    \n",
    "    # Get top left x1,y1 coordinate\n",
    "    x_left = torch.max(boxes1[:, None, 0], boxes2[:, 0])  # (N, M)\n",
    "    y_top = torch.max(boxes1[:, None, 1], boxes2[:, 1])  # (N, M)\n",
    "    \n",
    "    # Get bottom right x2,y2 coordinate\n",
    "    x_right = torch.min(boxes1[:, None, 2], boxes2[:, 2])  # (N, M)\n",
    "    y_bottom = torch.min(boxes1[:, None, 3], boxes2[:, 3])  # (N, M)\n",
    "    \n",
    "    intersection_area = (x_right - x_left).clamp(min=0) * (y_bottom - y_top).clamp(min=0)  # (N, M)\n",
    "    union = area1[:, None] + area2 - intersection_area  # (N, M)\n",
    "    iou = intersection_area / union  # (N, M)\n",
    "    return iou"
   ]
  },
  {
   "cell_type": "markdown",
   "id": "cec7f548",
   "metadata": {},
   "source": [
    "# RPN"
   ]
  },
  {
   "cell_type": "code",
   "execution_count": 11,
   "id": "e754fc26",
   "metadata": {},
   "outputs": [],
   "source": [
    "def assign_targets_to_anchors(anchors, gt_boxes):\n",
    "    r\"\"\"\n",
    "    For each anchor assign a ground truth box based on the IOU.\n",
    "    Also creates classification labels to be used for training\n",
    "    label=1 for anchors where maximum IOU with a gtbox > high_iou_threshold\n",
    "    label=0 for anchors where maximum IOU with a gtbox < low_iou_threshold\n",
    "    label=-1 for anchors where maximum IOU with a gtbox between (low_iou_threshold, high_iou_threshold)\n",
    "    :param anchors: (num_anchors_in_image, 4) all anchor boxes\n",
    "    :param gt_boxes: (num_gt_boxes_in_image, 4) all ground truth boxes\n",
    "    :return:\n",
    "        label: (num_anchors_in_image) {-1/0/1}\n",
    "        matched_gt_boxes: (num_anchors_in_image, 4) coordinates of assigned gt_box to each anchor\n",
    "            Even background/to_be_ignored anchors will be assigned some ground truth box.\n",
    "            It's fine, we will use label to differentiate those instances later\n",
    "    \"\"\"\n",
    "    \n",
    "    # Get (gt_boxes, num_anchors_in_image) IOU matrix\n",
    "    iou_matrix = get_iou(gt_boxes, anchors)\n",
    "    \n",
    "    # For each anchor get the gt box index with maximum overlap\n",
    "    best_match_iou, best_match_gt_idx = iou_matrix.max(dim=0)\n",
    "    # best_match_gt_idx -> (num_anchors_in_image)\n",
    "    \n",
    "    # This copy of best_match_gt_idx will be needed later to\n",
    "    # add low quality matches\n",
    "    best_match_gt_idx_pre_thresholding = best_match_gt_idx.clone()\n",
    "    \n",
    "    # Based on threshold, update the values of best_match_gt_idx\n",
    "    # For anchors with highest IOU < low_threshold update to be -1\n",
    "    # For anchors with highest IOU between low_threshold & high threshold update to be -2\n",
    "    below_low_threshold = best_match_iou < 0.3\n",
    "    between_thresholds = (best_match_iou >= 0.3) & (best_match_iou < 0.7)\n",
    "    best_match_gt_idx[below_low_threshold] = -1\n",
    "    best_match_gt_idx[between_thresholds] = -2\n",
    "    \n",
    "    # Add low quality anchor boxes, if for a given ground truth box, these are the ones\n",
    "    # that have highest IOU with that gt box\n",
    "    \n",
    "    # For each gt box, get the maximum IOU value amongst all anchors\n",
    "    best_anchor_iou_for_gt, _ = iou_matrix.max(dim=1)\n",
    "    # best_anchor_iou_for_gt -> (num_gt_boxes_in_image)\n",
    "    \n",
    "    # For each gt box get those anchors\n",
    "    # which have this same IOU as present in best_anchor_iou_for_gt\n",
    "    # This is to ensure if 10 anchors all have the same IOU value,\n",
    "    # which is equal to the highest IOU that this gt box has with any anchor\n",
    "    # then we get all these 10 anchors\n",
    "    gt_pred_pair_with_highest_iou = torch.where(iou_matrix == best_anchor_iou_for_gt[:, None])\n",
    "    # gt_pred_pair_with_highest_iou -> [0, 0, 0, 1, 1, 1], [8896,  8905,  8914, 10472, 10805, 11138]\n",
    "    # This means that anchors at the first 3 indexes have an IOU with gt box at index 0\n",
    "    # which is equal to the highest IOU that this gt box has with ANY anchor\n",
    "    # Similarly anchor at last three indexes(10472, 10805, 11138) have an IOU with gt box at index 1\n",
    "    # which is equal to the highest IOU that this gt box has with ANY anchor\n",
    "    # These 6 anchor indexes will also be added as positive anchors\n",
    "    \n",
    "    # Get all the anchors indexes to update\n",
    "    pred_inds_to_update = gt_pred_pair_with_highest_iou[1]\n",
    "    \n",
    "    # Update the matched gt index for all these anchors with whatever was the best gt box\n",
    "    # prior to thresholding\n",
    "    best_match_gt_idx[pred_inds_to_update] = best_match_gt_idx_pre_thresholding[pred_inds_to_update]\n",
    "    \n",
    "    # best_match_gt_idx is either a valid index for all anchors or -1(background) or -2(to be ignored)\n",
    "    # Clamp this so that the best_match_gt_idx is a valid non-negative index\n",
    "    # At this moment the -1 and -2 labelled anchors will be mapped to the 0th gt box\n",
    "    matched_gt_boxes = gt_boxes[best_match_gt_idx.clamp(min=0)]\n",
    "    \n",
    "    # Set all foreground anchor labels as 1\n",
    "    labels = best_match_gt_idx >= 0\n",
    "    labels = labels.to(dtype=torch.float32)\n",
    "    \n",
    "    # Set all background anchor labels as 0\n",
    "    background_anchors = best_match_gt_idx == -1\n",
    "    labels[background_anchors] = 0.0\n",
    "    \n",
    "    # Set all to be ignored anchor labels as -1\n",
    "    ignored_anchors = best_match_gt_idx == -2\n",
    "    labels[ignored_anchors] = -1.0\n",
    "    # Later for classification we will only pick labels which have > 0 label\n",
    "    \n",
    "    return labels, matched_gt_boxes"
   ]
  },
  {
   "cell_type": "markdown",
   "id": "441667b4",
   "metadata": {},
   "source": [
    "# ROI"
   ]
  },
  {
   "cell_type": "code",
   "execution_count": 12,
   "id": "713a805b",
   "metadata": {},
   "outputs": [],
   "source": [
    "def assign_target_to_proposals(proposals, gt_boxes, gt_labels):\n",
    "    r\"\"\"\n",
    "    Given a set of proposals and ground truth boxes and their respective labels.\n",
    "    Use IOU to assign these proposals to some gt box or background\n",
    "    :param proposals: (number_of_proposals, 4)\n",
    "    :param gt_boxes: (number_of_gt_boxes, 4)\n",
    "    :param gt_labels: (number_of_gt_boxes)\n",
    "    :return:\n",
    "        labels: (number_of_proposals)\n",
    "        matched_gt_boxes: (number_of_proposals, 4)\n",
    "    \"\"\"\n",
    "    # Get IOU Matrix between gt boxes and proposals\n",
    "    iou_matrix = get_iou(gt_boxes, proposals)\n",
    "    # For each gt box proposal find best matching gt box\n",
    "    best_match_iou, best_match_gt_idx = iou_matrix.max(dim=0)\n",
    "    background_proposals = (best_match_iou < 0.7) & (best_match_iou >= 0.3)\n",
    "    ignored_proposals = best_match_iou < 0.3\n",
    "    \n",
    "    # Update best match of low IOU proposals to -1\n",
    "    best_match_gt_idx[background_proposals] = -1\n",
    "    best_match_gt_idx[ignored_proposals] = -2\n",
    "    \n",
    "    # Get best marching gt boxes for ALL proposals\n",
    "    # Even background proposals would have a gt box assigned to it\n",
    "    # Label will be used to ignore them later\n",
    "    matched_gt_boxes_for_proposals = gt_boxes[best_match_gt_idx.clamp(min=0)]\n",
    "    \n",
    "    # Get class label for all proposals according to matching gt boxes\n",
    "    labels = gt_labels[best_match_gt_idx.clamp(min=0)]\n",
    "    labels = labels.to(dtype=torch.int64)\n",
    "    \n",
    "    # Update background proposals to be of label 0(background)\n",
    "    labels[background_proposals] = 0\n",
    "    \n",
    "    # Set all to be ignored anchor labels as -1(will be ignored)\n",
    "    labels[ignored_proposals] = -1\n",
    "    \n",
    "    return labels, matched_gt_boxes_for_proposals\n"
   ]
  },
  {
   "cell_type": "code",
   "execution_count": 13,
   "id": "d283763b",
   "metadata": {},
   "outputs": [
    {
     "data": {
      "text/plain": [
       "(True, True)"
      ]
     },
     "execution_count": 13,
     "metadata": {},
     "output_type": "execute_result"
    }
   ],
   "source": [
    "\n",
    "gt_boxes = torch.load(\"gt_boxes.pth\")\n",
    "anchors = torch.load(\"proposals.pth\")\n",
    "gt_labels = torch.load(\"gt_labels.pth\")\n",
    "\n",
    "\n",
    "original_labels, original_gt_boxes = assign_targets_to_anchors(anchors, gt_boxes)\n",
    "my_labels, my_gt_boxes = assign_target_to_regions(gt_boxes, anchors)\n",
    "\n",
    "original_labels.equal(my_labels), original_gt_boxes.equal(my_gt_boxes)"
   ]
  },
  {
   "cell_type": "code",
   "execution_count": 14,
   "id": "8ac3f330",
   "metadata": {},
   "outputs": [
    {
     "data": {
      "text/plain": [
       "(True, True)"
      ]
     },
     "execution_count": 14,
     "metadata": {},
     "output_type": "execute_result"
    }
   ],
   "source": [
    "original_labels, original_gt_boxes = assign_target_to_proposals(anchors, gt_boxes, gt_labels)\n",
    "my_labels, my_gt_boxes = assign_target_to_regions(gt_boxes, anchors, gt_labels=gt_labels, should_match_all_gt_boxes=False, below_threshold_label=-1.0, between_threshold_label=0.0)\n",
    "my_labels = my_labels.to(dtype=torch.int64)\n",
    "\n",
    "original_labels.equal(my_labels), original_gt_boxes.equal(my_gt_boxes)"
   ]
  },
  {
   "cell_type": "code",
   "execution_count": null,
   "id": "2b0b74d7",
   "metadata": {},
   "outputs": [],
   "source": []
  }
 ],
 "metadata": {
  "kernelspec": {
   "display_name": "env",
   "language": "python",
   "name": "python3"
  },
  "language_info": {
   "codemirror_mode": {
    "name": "ipython",
    "version": 3
   },
   "file_extension": ".py",
   "mimetype": "text/x-python",
   "name": "python",
   "nbconvert_exporter": "python",
   "pygments_lexer": "ipython3",
   "version": "3.10.12"
  }
 },
 "nbformat": 4,
 "nbformat_minor": 5
}
