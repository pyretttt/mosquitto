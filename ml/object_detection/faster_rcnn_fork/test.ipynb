{
 "cells": [
  {
   "cell_type": "code",
   "execution_count": 1,
   "id": "426fbdb3",
   "metadata": {},
   "outputs": [],
   "source": [
    "import torch"
   ]
  },
  {
   "cell_type": "code",
   "execution_count": 2,
   "id": "b4702507",
   "metadata": {},
   "outputs": [
    {
     "data": {
      "text/plain": [
       "torch.Size([30, 4])"
      ]
     },
     "execution_count": 2,
     "metadata": {},
     "output_type": "execute_result"
    }
   ],
   "source": [
    "x = torch.randn((20, 4))\n",
    "y = torch.randn((10, 4))\n",
    "\n",
    "torch.cat((x, y), dim=0).shape"
   ]
  },
  {
   "cell_type": "code",
   "execution_count": 3,
   "id": "72eac621",
   "metadata": {},
   "outputs": [
    {
     "data": {
      "text/plain": [
       "(tensor([0, 1, 2, 3]), tensor([3, 2, 1, 0]))"
      ]
     },
     "execution_count": 3,
     "metadata": {},
     "output_type": "execute_result"
    }
   ],
   "source": [
    "x = torch.zeros((4, 4))\n",
    "rows = torch.arange(4)\n",
    "cols = 3 - torch.arange(0, 4)\n",
    "rows, cols"
   ]
  },
  {
   "cell_type": "code",
   "execution_count": 4,
   "id": "cd6b0caa",
   "metadata": {},
   "outputs": [],
   "source": [
    "x[rows, cols] = True"
   ]
  },
  {
   "cell_type": "code",
   "execution_count": 5,
   "id": "d0a1a6a5",
   "metadata": {},
   "outputs": [
    {
     "data": {
      "text/plain": [
       "tensor([[0., 0., 0., 1.],\n",
       "        [0., 0., 1., 0.],\n",
       "        [0., 1., 0., 0.],\n",
       "        [1., 0., 0., 0.]])"
      ]
     },
     "execution_count": 5,
     "metadata": {},
     "output_type": "execute_result"
    }
   ],
   "source": [
    "x"
   ]
  },
  {
   "cell_type": "code",
   "execution_count": 6,
   "id": "203093eb",
   "metadata": {},
   "outputs": [],
   "source": [
    "import torch\n",
    "from typing import Optional\n",
    "\n",
    "def get_iou(boxes1, boxes2):\n",
    "    r\"\"\"\n",
    "    IOU between two sets of boxes\n",
    "    :param boxes1: (Tensor of shape N x 4)\n",
    "    :param boxes2: (Tensor of shape M x 4)\n",
    "    :return: IOU matrix of shape N x M\n",
    "    \"\"\"\n",
    "    # Area of boxes (x2-x1)*(y2-y1)\n",
    "    area1 = (boxes1[:, 2] - boxes1[:, 0]) * (boxes1[:, 3] - boxes1[:, 1])  # (N,)\n",
    "    area2 = (boxes2[:, 2] - boxes2[:, 0]) * (boxes2[:, 3] - boxes2[:, 1])  # (M,)\n",
    "    \n",
    "    # Get top left x1,y1 coordinate\n",
    "    x_left = torch.max(boxes1[:, None, 0], boxes2[:, 0])  # (N, M)\n",
    "    y_top = torch.max(boxes1[:, None, 1], boxes2[:, 1])  # (N, M)\n",
    "    \n",
    "    # Get bottom right x2,y2 coordinate\n",
    "    x_right = torch.min(boxes1[:, None, 2], boxes2[:, 2])  # (N, M)\n",
    "    y_bottom = torch.min(boxes1[:, None, 3], boxes2[:, 3])  # (N, M)\n",
    "    \n",
    "    intersection_area = (x_right - x_left).clamp(min=0) * (y_bottom - y_top).clamp(min=0)  # (N, M)\n",
    "    union = area1[:, None] + area2 - intersection_area  # (N, M)\n",
    "    iou = intersection_area / union  # (N, M)\n",
    "    return iou\n",
    "\n",
    "\n",
    "def assign_targets_to_anchors(anchors, gt_boxes):\n",
    "    r\"\"\"\n",
    "    For each anchor assign a ground truth box based on the IOU.\n",
    "    Also creates classification labels to be used for training\n",
    "    label=1 for anchors where maximum IOU with a gtbox > high_iou_threshold\n",
    "    label=0 for anchors where maximum IOU with a gtbox < low_iou_threshold\n",
    "    label=-1 for anchors where maximum IOU with a gtbox between (low_iou_threshold, high_iou_threshold)\n",
    "    :param anchors: (num_anchors_in_image, 4) all anchor boxes\n",
    "    :param gt_boxes: (num_gt_boxes_in_image, 4) all ground truth boxes\n",
    "    :return:\n",
    "        label: (num_anchors_in_image) {-1/0/1}\n",
    "        matched_gt_boxes: (num_anchors_in_image, 4) coordinates of assigned gt_box to each anchor\n",
    "            Even background/to_be_ignored anchors will be assigned some ground truth box.\n",
    "            It's fine, we will use label to differentiate those instances later\n",
    "    \"\"\"\n",
    "    \n",
    "    # Get (gt_boxes, num_anchors_in_image) IOU matrix\n",
    "    iou_matrix = get_iou(gt_boxes, anchors)\n",
    "    \n",
    "    # For each anchor get the gt box index with maximum overlap\n",
    "    best_match_iou, best_match_gt_idx = iou_matrix.max(dim=0)\n",
    "    # best_match_gt_idx -> (num_anchors_in_image)\n",
    "    \n",
    "    # This copy of best_match_gt_idx will be needed later to\n",
    "    # add low quality matches\n",
    "    best_match_gt_idx_pre_thresholding = best_match_gt_idx.clone()\n",
    "    \n",
    "    # Based on threshold, update the values of best_match_gt_idx\n",
    "    # For anchors with highest IOU < low_threshold update to be -1\n",
    "    # For anchors with highest IOU between low_threshold & high threshold update to be -2\n",
    "    below_low_threshold = best_match_iou < 0.3\n",
    "    between_thresholds = (best_match_iou >= 0.3) & (best_match_iou < 0.7)\n",
    "    best_match_gt_idx[below_low_threshold] = -1\n",
    "    best_match_gt_idx[between_thresholds] = -2\n",
    "    \n",
    "    # Add low quality anchor boxes, if for a given ground truth box, these are the ones\n",
    "    # that have highest IOU with that gt box\n",
    "    \n",
    "    # For each gt box, get the maximum IOU value amongst all anchors\n",
    "    best_anchor_iou_for_gt, _ = iou_matrix.max(dim=1)\n",
    "    # best_anchor_iou_for_gt -> (num_gt_boxes_in_image)\n",
    "    \n",
    "    # For each gt box get those anchors\n",
    "    # which have this same IOU as present in best_anchor_iou_for_gt\n",
    "    # This is to ensure if 10 anchors all have the same IOU value,\n",
    "    # which is equal to the highest IOU that this gt box has with any anchor\n",
    "    # then we get all these 10 anchors\n",
    "    gt_pred_pair_with_highest_iou = torch.where(iou_matrix == best_anchor_iou_for_gt[:, None])\n",
    "    # gt_pred_pair_with_highest_iou -> [0, 0, 0, 1, 1, 1], [8896,  8905,  8914, 10472, 10805, 11138]\n",
    "    # This means that anchors at the first 3 indexes have an IOU with gt box at index 0\n",
    "    # which is equal to the highest IOU that this gt box has with ANY anchor\n",
    "    # Similarly anchor at last three indexes(10472, 10805, 11138) have an IOU with gt box at index 1\n",
    "    # which is equal to the highest IOU that this gt box has with ANY anchor\n",
    "    # These 6 anchor indexes will also be added as positive anchors\n",
    "    \n",
    "    # Get all the anchors indexes to update\n",
    "    pred_inds_to_update = gt_pred_pair_with_highest_iou[1]\n",
    "    \n",
    "    # Update the matched gt index for all these anchors with whatever was the best gt box\n",
    "    # prior to thresholding\n",
    "    best_match_gt_idx[pred_inds_to_update] = best_match_gt_idx_pre_thresholding[pred_inds_to_update]\n",
    "    \n",
    "    # best_match_gt_idx is either a valid index for all anchors or -1(background) or -2(to be ignored)\n",
    "    # Clamp this so that the best_match_gt_idx is a valid non-negative index\n",
    "    # At this moment the -1 and -2 labelled anchors will be mapped to the 0th gt box\n",
    "    matched_gt_boxes = gt_boxes[best_match_gt_idx.clamp(min=0)]\n",
    "    \n",
    "    # Set all foreground anchor labels as 1\n",
    "    labels = best_match_gt_idx >= 0\n",
    "    labels = labels.to(dtype=torch.float32)\n",
    "    \n",
    "    # Set all background anchor labels as 0\n",
    "    background_anchors = best_match_gt_idx == -1\n",
    "    labels[background_anchors] = 0.0\n",
    "    \n",
    "    # Set all to be ignored anchor labels as -1\n",
    "    ignored_anchors = best_match_gt_idx == -2\n",
    "    labels[ignored_anchors] = -1.0\n",
    "    # Later for classification we will only pick labels which have > 0 label\n",
    "    \n",
    "    return labels, matched_gt_boxes\n",
    "\n",
    "    \n",
    "def assign_target_to_regions(\n",
    "    gt_boxes,\n",
    "    regions,\n",
    "    gt_labels: Optional[torch.Tensor] = None,\n",
    "    low_iou: float = 0.3,\n",
    "    high_iou: float = 0.7,\n",
    "    should_match_all_gt_boxes: bool = True,\n",
    "    labels_type = torch.float32\n",
    "):\n",
    "    iou_matrix = get_iou(gt_boxes, regions) # N_box x N_regions\n",
    "    best_iou_for_regions, best_iou_idx_for_regions = iou_matrix.max(dim=0) # N_regions, finds best gt box for each region\n",
    "    \n",
    "    # === Have found best gt_box for each anchor ===\n",
    "    # Based on IOU value we want to label each passed gt_box either as:\n",
    "    # Background == 0\n",
    "    # Ignored == -1\n",
    "    # Positive == 1\n",
    "    \n",
    "    below_low_iou_regions = best_iou_for_regions < low_iou\n",
    "    between_thresholds_regions = (best_iou_for_regions >= low_iou) & (best_iou_for_regions < high_iou)\n",
    "\n",
    "    if should_match_all_gt_boxes:\n",
    "\t    # We want to find best anchor for each gt_box. I.e. associate every gt_box with any anchor.\n",
    "\t    # Masks above do not respect this rule - so we make additional adjustments\n",
    "        # Anchor indices that we dont want to mark as background or ignored\n",
    "        best_anchor_iou, _ = iou_matrix.max(dim=1)\n",
    "        # We do this like this instead of using indices above (unnamed `_`), to match all anchors that have the same IOU value.\n",
    "        anchors_to_unignore = torch.where(iou_matrix == best_anchor_iou[:, None])[1]        \n",
    "        below_low_iou_regions[anchors_to_unignore] = False\n",
    "        between_thresholds_regions[anchors_to_unignore] = False\n",
    "\n",
    "    \n",
    "    best_iou_idx_for_regions[below_low_iou_regions] = -2\n",
    "    best_iou_idx_for_regions[between_thresholds_regions] = -1\n",
    "    \n",
    "    matched_gt_boxes = gt_boxes[best_iou_idx_for_regions.clamp(0)]\n",
    "    if gt_labels is not None:\n",
    "        labels = gt_labels[below_low_iou_regions.clamp(0)].to(dtype=labels_type)\n",
    "    else:\n",
    "        labels = (best_iou_idx_for_regions >= 0).to(dtype=labels_type)\n",
    "            \n",
    "        \n",
    "    labels[below_low_iou_regions] = 0.0 # Background\n",
    "    labels[between_thresholds_regions] = -1.0 # Ignored\n",
    "    \n",
    "    return labels, matched_gt_boxes"
   ]
  },
  {
   "cell_type": "code",
   "execution_count": 7,
   "id": "713a805b",
   "metadata": {},
   "outputs": [],
   "source": [
    "def assign_target_to_proposals(proposals, gt_boxes, gt_labels):\n",
    "    r\"\"\"\n",
    "    Given a set of proposals and ground truth boxes and their respective labels.\n",
    "    Use IOU to assign these proposals to some gt box or background\n",
    "    :param proposals: (number_of_proposals, 4)\n",
    "    :param gt_boxes: (number_of_gt_boxes, 4)\n",
    "    :param gt_labels: (number_of_gt_boxes)\n",
    "    :return:\n",
    "        labels: (number_of_proposals)\n",
    "        matched_gt_boxes: (number_of_proposals, 4)\n",
    "    \"\"\"\n",
    "    # Get IOU Matrix between gt boxes and proposals\n",
    "    iou_matrix = get_iou(gt_boxes, proposals)\n",
    "    # For each gt box proposal find best matching gt box\n",
    "    best_match_iou, best_match_gt_idx = iou_matrix.max(dim=0)\n",
    "    ignored_proposals = (best_match_iou < 0.7) & (best_match_iou >= 0.3)\n",
    "    background_proposals = best_match_iou < 0.3\n",
    "    \n",
    "    # Update best match of low IOU proposals to -1\n",
    "    best_match_gt_idx[background_proposals] = -1\n",
    "    best_match_gt_idx[ignored_proposals] = -2\n",
    "    \n",
    "    # Get best marching gt boxes for ALL proposals\n",
    "    # Even background proposals would have a gt box assigned to it\n",
    "    # Label will be used to ignore them later\n",
    "    matched_gt_boxes_for_proposals = gt_boxes[best_match_gt_idx.clamp(min=0)]\n",
    "    \n",
    "    # Get class label for all proposals according to matching gt boxes\n",
    "    labels = gt_labels[best_match_gt_idx.clamp(min=0)]\n",
    "    labels = labels.to(dtype=torch.int64)\n",
    "    \n",
    "    # Update background proposals to be of label 0(background)\n",
    "    labels[background_proposals] = 0\n",
    "    \n",
    "    # Set all to be ignored anchor labels as -1(will be ignored)\n",
    "    labels[ignored_proposals] = -1\n",
    "    \n",
    "    return labels, matched_gt_boxes_for_proposals"
   ]
  },
  {
   "cell_type": "code",
   "execution_count": 9,
   "id": "d283763b",
   "metadata": {},
   "outputs": [
    {
     "data": {
      "text/plain": [
       "(True, True)"
      ]
     },
     "execution_count": 9,
     "metadata": {},
     "output_type": "execute_result"
    }
   ],
   "source": [
    "\n",
    "gt_boxes = torch.load(\"boxes.pth\")\n",
    "anchors = torch.load(\"anchors.pth\")\n",
    "\n",
    "original_labels, original_gt_boxes = assign_targets_to_anchors(anchors, gt_boxes)\n",
    "my_labels, my_gt_boxes = assign_target_to_regions(gt_boxes, anchors)\n",
    "\n",
    "original_labels.equal(my_labels), original_gt_boxes.equal(my_gt_boxes)"
   ]
  },
  {
   "cell_type": "code",
   "execution_count": 10,
   "id": "8ac3f330",
   "metadata": {},
   "outputs": [
    {
     "data": {
      "text/plain": [
       "(True, True)"
      ]
     },
     "execution_count": 10,
     "metadata": {},
     "output_type": "execute_result"
    }
   ],
   "source": [
    "gt_labels = torch.zeros_like(anchors)\n",
    "gt_labels[torch.randperm(gt_labels.shape[0])] = True\n",
    "\n",
    "original_labels, original_gt_boxes = assign_target_to_proposals(anchors, gt_boxes, gt_labels)\n",
    "my_labels, my_gt_boxes = assign_target_to_regions(gt_boxes, anchors, gt_labels=gt_labels, should_match_all_gt_boxes=False, labels_type=torch.int64)\n",
    "\n",
    "original_labels.equal(my_labels), original_gt_boxes.equal(my_gt_boxes)"
   ]
  },
  {
   "cell_type": "code",
   "execution_count": null,
   "id": "55d9cf0c",
   "metadata": {},
   "outputs": [],
   "source": []
  }
 ],
 "metadata": {
  "kernelspec": {
   "display_name": "env",
   "language": "python",
   "name": "python3"
  },
  "language_info": {
   "codemirror_mode": {
    "name": "ipython",
    "version": 3
   },
   "file_extension": ".py",
   "mimetype": "text/x-python",
   "name": "python",
   "nbconvert_exporter": "python",
   "pygments_lexer": "ipython3",
   "version": "3.9.6"
  }
 },
 "nbformat": 4,
 "nbformat_minor": 5
}
