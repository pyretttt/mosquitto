{
 "cells": [
  {
   "cell_type": "code",
   "execution_count": 1,
   "metadata": {},
   "outputs": [],
   "source": [
    "import torch\n",
    "import numpy as np\n",
    "import matplotlib.pyplot as plt\n",
    "\n",
    "from scratchers.attn import Attention, MultiheadAttention\n",
    "from scratchers.transformer import TransformerBlock, TransformerDecoder, Config"
   ]
  },
  {
   "cell_type": "markdown",
   "metadata": {},
   "source": [
    "# Data generation"
   ]
  },
  {
   "cell_type": "code",
   "execution_count": 2,
   "metadata": {},
   "outputs": [],
   "source": [
    "SOURCE_SEQ_LEN = 6\n",
    "TARGET_SEQ_LEN = 6\n",
    "\n",
    "DATA_SIZE = 1200\n",
    "TRAIN_SIZE = int(1200 * 0.8)\n",
    "TEST_SIZE = 1200 - TRAIN_SIZE\n",
    "\n",
    "radii = np.random.ranf((DATA_SIZE)) * 9 + 1\n",
    "starting_radian = np.random.ranf((DATA_SIZE)) * 2 * np.pi\n",
    "directions = np.random.randint(2, size=DATA_SIZE) * 2 - 1\n",
    "\n",
    "def to_cartesian(\n",
    "    radius: float,\n",
    "    start_radian: float, \n",
    "    direction: int\n",
    "):\n",
    "    delta = 2 * np.pi / (SOURCE_SEQ_LEN + TARGET_SEQ_LEN)\n",
    "    seq = np.array([\n",
    "        np.array([\n",
    "            radius * np.cos(start_radian + (i * direction * delta)),\n",
    "            radius * np.sin(start_radian + (i * direction * delta))\n",
    "        ])\n",
    "        for i in range(SOURCE_SEQ_LEN + TARGET_SEQ_LEN)\n",
    "    ])\n",
    "    sourse_seq, target_seq = np.split(seq, indices_or_sections=np.array([SOURCE_SEQ_LEN]), axis=0)\n",
    "    return sourse_seq, target_seq\n",
    "\n",
    "def make_data():\n",
    "    X = np.empty((DATA_SIZE, (SOURCE_SEQ_LEN), 2))\n",
    "    Y = np.empty((DATA_SIZE, (TARGET_SEQ_LEN), 2))\n",
    "    for idx, (radius, start_radian, direction) in enumerate(zip(radii, starting_radian, directions)):\n",
    "        x, y = to_cartesian(radius, start_radian, direction)\n",
    "        X[idx, :, :] = x\n",
    "        Y[idx, :, :] = y\n",
    "    \n",
    "    return torch.from_numpy(X[:TRAIN_SIZE]), torch.from_numpy(Y[:TRAIN_SIZE]), torch.from_numpy(X[TRAIN_SIZE:]), torch.from_numpy(Y[TRAIN_SIZE:])\n",
    "\n",
    "X_train, y_train, X_test, y_test = make_data()"
   ]
  },
  {
   "cell_type": "code",
   "execution_count": 3,
   "metadata": {},
   "outputs": [
    {
     "data": {
      "image/png": "[encoded data removed]",
      "text/plain": [
       "<Figure size 600x600 with 1 Axes>"
      ]
     },
     "metadata": {},
     "output_type": "display_data"
    }
   ],
   "source": [
    "def plot_circle(input, prediction, figsize=(6, 6)):\n",
    "    plt.figure(figsize=figsize)\n",
    "    plt.scatter(input[:, 0], input[:, 1], label=\"input\")\n",
    "    plt.scatter(prediction[:, 0], prediction[:, 1], label=\"prediction\")\n",
    "    plt.legend()\n",
    "    \n",
    "plot_circle(X_train[7], y_train[7])"
   ]
  },
  {
   "cell_type": "markdown",
   "metadata": {},
   "source": [
    "# Train"
   ]
  },
  {
   "cell_type": "code",
   "execution_count": 4,
   "metadata": {},
   "outputs": [
    {
     "ename": "ValueError",
     "evalue": "dropout probability has to be between 0 and 1, but got 2",
     "output_type": "error",
     "traceback": [
      "\u001b[0;31m---------------------------------------------------------------------------\u001b[0m",
      "\u001b[0;31mValueError\u001b[0m                                Traceback (most recent call last)",
      "Cell \u001b[0;32mIn[4], line 21\u001b[0m\n\u001b[1;32m     12\u001b[0m \u001b[38;5;28;01mdef\u001b[39;00m \u001b[38;5;21mattn_factory\u001b[39m(config: Config):\n\u001b[1;32m     13\u001b[0m     \u001b[38;5;28;01mreturn\u001b[39;00m MultiheadAttention(\n\u001b[1;32m     14\u001b[0m         input_size\u001b[38;5;241m=\u001b[39mconfig\u001b[38;5;241m.\u001b[39minput_size,\n\u001b[1;32m     15\u001b[0m         d_k\u001b[38;5;241m=\u001b[39mconfig\u001b[38;5;241m.\u001b[39mattn_d_k,\n\u001b[0;32m   (...)\u001b[0m\n\u001b[1;32m     18\u001b[0m         dropout\u001b[38;5;241m=\u001b[39mconfig\u001b[38;5;241m.\u001b[39mdropout\n\u001b[1;32m     19\u001b[0m     )\n\u001b[0;32m---> 21\u001b[0m decoder \u001b[38;5;241m=\u001b[39m \u001b[43mTransformerDecoder\u001b[49m\u001b[43m(\u001b[49m\u001b[43mcfg\u001b[49m\u001b[43m,\u001b[49m\u001b[43m \u001b[49m\u001b[43mattn_factory\u001b[49m\u001b[43m)\u001b[49m\n",
      "File \u001b[0;32m~/dev/mosquitto/ml/scratchers/transformer.py:62\u001b[0m, in \u001b[0;36mTransformerDecoder.__init__\u001b[0;34m(self, config, attn_factory)\u001b[0m\n\u001b[1;32m     59\u001b[0m \u001b[38;5;28;01mdef\u001b[39;00m \u001b[38;5;21m__init__\u001b[39m(\u001b[38;5;28mself\u001b[39m, config: Config, attn_factory: Callable[[Config], nn\u001b[38;5;241m.\u001b[39mModule]):\n\u001b[1;32m     60\u001b[0m     \u001b[38;5;28msuper\u001b[39m()\u001b[38;5;241m.\u001b[39m\u001b[38;5;21m__init__\u001b[39m()\n\u001b[1;32m     61\u001b[0m     \u001b[38;5;28mself\u001b[39m\u001b[38;5;241m.\u001b[39mblocks \u001b[38;5;241m=\u001b[39m nn\u001b[38;5;241m.\u001b[39mModuleList([\n\u001b[0;32m---> 62\u001b[0m         \u001b[43mTransformerBlock\u001b[49m\u001b[43m(\u001b[49m\n\u001b[1;32m     63\u001b[0m \u001b[43m            \u001b[49m\u001b[43mconfig\u001b[49m\u001b[38;5;241;43m=\u001b[39;49m\u001b[43mconfig\u001b[49m\u001b[43m,\u001b[49m\n\u001b[1;32m     64\u001b[0m \u001b[43m            \u001b[49m\u001b[43mattn_factory\u001b[49m\u001b[38;5;241;43m=\u001b[39;49m\u001b[43mattn_factory\u001b[49m\n\u001b[1;32m     65\u001b[0m \u001b[43m        \u001b[49m\u001b[43m)\u001b[49m \u001b[38;5;28;01mfor\u001b[39;00m _ \u001b[38;5;129;01min\u001b[39;00m \u001b[38;5;28mrange\u001b[39m(config\u001b[38;5;241m.\u001b[39mnlayers)\n\u001b[1;32m     66\u001b[0m     ])\n\u001b[1;32m     67\u001b[0m     \u001b[38;5;28mself\u001b[39m\u001b[38;5;241m.\u001b[39mconfig \u001b[38;5;241m=\u001b[39m config\n",
      "File \u001b[0;32m~/dev/mosquitto/ml/scratchers/transformer.py:31\u001b[0m, in \u001b[0;36mTransformerBlock.__init__\u001b[0;34m(self, config, attn_factory)\u001b[0m\n\u001b[1;32m     25\u001b[0m \u001b[38;5;28mself\u001b[39m\u001b[38;5;241m.\u001b[39mattn \u001b[38;5;241m=\u001b[39m attn_factory(config)\n\u001b[1;32m     26\u001b[0m \u001b[38;5;28mself\u001b[39m\u001b[38;5;241m.\u001b[39mconfig \u001b[38;5;241m=\u001b[39m config\n\u001b[1;32m     27\u001b[0m \u001b[38;5;28mself\u001b[39m\u001b[38;5;241m.\u001b[39mprojection \u001b[38;5;241m=\u001b[39m nn\u001b[38;5;241m.\u001b[39mModuleList([\n\u001b[1;32m     28\u001b[0m     nn\u001b[38;5;241m.\u001b[39mLinear(config\u001b[38;5;241m.\u001b[39minput_size, config\u001b[38;5;241m.\u001b[39mtransformer_proj_dim),\n\u001b[1;32m     29\u001b[0m     nn\u001b[38;5;241m.\u001b[39mReLU(),\n\u001b[1;32m     30\u001b[0m     nn\u001b[38;5;241m.\u001b[39mLinear(config\u001b[38;5;241m.\u001b[39mtransformer_proj_dim, config\u001b[38;5;241m.\u001b[39minput_size),\n\u001b[0;32m---> 31\u001b[0m     \u001b[43mnn\u001b[49m\u001b[38;5;241;43m.\u001b[39;49m\u001b[43mDropout\u001b[49m\u001b[43m(\u001b[49m\u001b[43mconfig\u001b[49m\u001b[38;5;241;43m.\u001b[39;49m\u001b[43minput_size\u001b[49m\u001b[43m)\u001b[49m\n\u001b[1;32m     32\u001b[0m ])\n\u001b[1;32m     33\u001b[0m \u001b[38;5;28mself\u001b[39m\u001b[38;5;241m.\u001b[39mlayer_norm1 \u001b[38;5;241m=\u001b[39m nn\u001b[38;5;241m.\u001b[39mLayerNorm(config\u001b[38;5;241m.\u001b[39minput_size)\n\u001b[1;32m     34\u001b[0m \u001b[38;5;28mself\u001b[39m\u001b[38;5;241m.\u001b[39mlayer_norm2 \u001b[38;5;241m=\u001b[39m nn\u001b[38;5;241m.\u001b[39mLayerNorm(config\u001b[38;5;241m.\u001b[39minput_size)\n",
      "File \u001b[0;32m~/dev/mosquitto/cv/env/lib/python3.12/site-packages/torch/nn/modules/dropout.py:25\u001b[0m, in \u001b[0;36m_DropoutNd.__init__\u001b[0;34m(self, p, inplace)\u001b[0m\n\u001b[1;32m     23\u001b[0m \u001b[38;5;28msuper\u001b[39m()\u001b[38;5;241m.\u001b[39m\u001b[38;5;21m__init__\u001b[39m()\n\u001b[1;32m     24\u001b[0m \u001b[38;5;28;01mif\u001b[39;00m p \u001b[38;5;241m<\u001b[39m \u001b[38;5;241m0\u001b[39m \u001b[38;5;129;01mor\u001b[39;00m p \u001b[38;5;241m>\u001b[39m \u001b[38;5;241m1\u001b[39m:\n\u001b[0;32m---> 25\u001b[0m     \u001b[38;5;28;01mraise\u001b[39;00m \u001b[38;5;167;01mValueError\u001b[39;00m(\n\u001b[1;32m     26\u001b[0m         \u001b[38;5;124mf\u001b[39m\u001b[38;5;124m\"\u001b[39m\u001b[38;5;124mdropout probability has to be between 0 and 1, but got \u001b[39m\u001b[38;5;132;01m{\u001b[39;00mp\u001b[38;5;132;01m}\u001b[39;00m\u001b[38;5;124m\"\u001b[39m\n\u001b[1;32m     27\u001b[0m     )\n\u001b[1;32m     28\u001b[0m \u001b[38;5;28mself\u001b[39m\u001b[38;5;241m.\u001b[39mp \u001b[38;5;241m=\u001b[39m p\n\u001b[1;32m     29\u001b[0m \u001b[38;5;28mself\u001b[39m\u001b[38;5;241m.\u001b[39minplace \u001b[38;5;241m=\u001b[39m inplace\n",
      "\u001b[0;31mValueError\u001b[0m: dropout probability has to be between 0 and 1, but got 2"
     ]
    }
   ],
   "source": [
    "cfg = Config(\n",
    "    input_size=2, \n",
    "    attn_d_k=16,\n",
    "    transformer_proj_dim=32,\n",
    "    dropout=0.2,\n",
    "    nlayers=2,\n",
    "    is_self_attn=False,\n",
    "    max_seq_len=TARGET_SEQ_LEN,\n",
    "    nheads=2\n",
    ")\n",
    "\n",
    "def attn_factory(config: Config):\n",
    "    return MultiheadAttention(\n",
    "        input_size=config.input_size,\n",
    "        d_k=config.attn_d_k,\n",
    "        nheads=config.nheads,\n",
    "        is_self_attn=config.is_self_attn,\n",
    "        dropout=config.dropout\n",
    "    )\n",
    "    \n",
    "decoder = TransformerDecoder(cfg, attn_factory)"
   ]
  },
  {
   "cell_type": "code",
   "execution_count": null,
   "metadata": {},
   "outputs": [],
   "source": []
  }
 ],
 "metadata": {
  "kernelspec": {
   "display_name": "env",
   "language": "python",
   "name": "python3"
  },
  "language_info": {
   "codemirror_mode": {
    "name": "ipython",
    "version": 3
   },
   "file_extension": ".py",
   "mimetype": "text/x-python",
   "name": "python",
   "nbconvert_exporter": "python",
   "pygments_lexer": "ipython3",
   "version": "3.12.6"
  }
 },
 "nbformat": 4,
 "nbformat_minor": 2
}
