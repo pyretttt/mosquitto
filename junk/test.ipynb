{
 "cells": [
  {
   "cell_type": "code",
   "execution_count": 2,
   "metadata": {},
   "outputs": [],
   "source": [
    "import matplotlib.pyplot as plt\n",
    "import numpy as np\n",
    "import math"
   ]
  },
  {
   "cell_type": "code",
   "execution_count": 42,
   "metadata": {},
   "outputs": [
    {
     "data": {
      "text/plain": [
       "(0.657744623479457, 2.5151789004053753)"
      ]
     },
     "execution_count": 42,
     "metadata": {},
     "output_type": "execute_result"
    }
   ],
   "source": [
    "X = np.random.randn(100)\n",
    "MU = (math.e ** 0.5) / (2 * math.pi) ** 0.5\n",
    "SIGMA = ((math.e ** 2) / (2 * math.pi) ** 0.5) - MU ** 2\n",
    "MU, SIGMA"
   ]
  },
  {
   "cell_type": "code",
   "execution_count": 7,
   "metadata": {},
   "outputs": [
    {
     "data": {
      "text/plain": [
       "array([ 0.63566112,  2.53685695,  2.50721369,  1.50530269,  0.90841491,\n",
       "        3.84471607,  0.52320383,  4.22176075,  1.97130488,  1.55415757,\n",
       "        0.17651001,  3.6306205 ,  8.79824954,  1.12514464,  1.59925842,\n",
       "        8.74619138,  0.7231139 ,  2.89269734,  1.09717793,  0.48763745,\n",
       "        0.52857687,  2.84685485,  0.80573561,  0.43440697,  1.26153614,\n",
       "        0.78814324,  0.20610933,  9.80464662,  0.31896042,  1.3123284 ,\n",
       "        0.31343611,  1.0509654 ,  1.08182295,  0.34858965,  3.4511353 ,\n",
       "       15.46454439,  0.33298807,  0.31334177,  0.69727099,  1.75624501,\n",
       "        0.25356864,  4.42737671,  1.28341945,  0.62153368,  2.8522181 ,\n",
       "        4.18552854,  0.80744322,  0.06703965,  3.01322059,  1.66194247,\n",
       "        1.72630779,  0.64250671,  0.39399539,  1.45490255,  0.4151138 ,\n",
       "        2.06134153,  0.40406245,  0.55476698,  7.000561  ,  1.43776677,\n",
       "        1.23363998,  0.21641115,  1.34885199,  1.1077945 ,  3.82536396,\n",
       "        0.59622248,  3.35706529,  3.14506521,  2.26733029,  3.52936787,\n",
       "        0.9580015 ,  2.26049841,  0.3498819 ,  0.4703678 ,  1.64390566,\n",
       "        4.24636191,  0.64482318,  1.95728788,  0.69759602,  0.23456775,\n",
       "        0.75167289,  1.34699838,  0.53684444,  0.29557293,  0.19050603,\n",
       "        0.17456582,  4.23502784,  0.96118711,  0.18904813,  1.1645014 ,\n",
       "        0.1410972 ,  0.12391352,  0.91986408,  1.90874287,  0.68105404,\n",
       "        2.01766757,  1.02493807,  0.35256577,  0.52072446,  0.7790726 ])"
      ]
     },
     "execution_count": 7,
     "metadata": {},
     "output_type": "execute_result"
    }
   ],
   "source": [
    "Y = np.exp(X)\n",
    "Y"
   ]
  },
  {
   "cell_type": "code",
   "execution_count": 25,
   "metadata": {},
   "outputs": [],
   "source": [
    "def subsample(inputs: np.array, n_samples: int, repeations: bool):\n",
    "    return np.random.choice(inputs, n_samples, repeations)\n",
    "\n",
    "def plot_hist(samples):\n",
    "    plt.hist(samples, density=True)"
   ]
  },
  {
   "cell_type": "code",
   "execution_count": 26,
   "metadata": {},
   "outputs": [
    {
     "data": {
      "image/png": "[encoded data removed]",
      "text/plain": [
       "<Figure size 640x480 with 1 Axes>"
      ]
     },
     "metadata": {},
     "output_type": "display_data"
    }
   ],
   "source": [
    "As = [] \n",
    "\n",
    "for i in range(5):\n",
    "    samples = subsample(Y, 30, False)\n",
    "    mean = MU\n",
    "    std = SIGMA ** 0.5\n",
    "    skewness = np.mean(((samples - mean) / std) ** 3)\n",
    "    As.append(skewness)\n",
    "    \n",
    "plot_hist(As)"
   ]
  },
  {
   "cell_type": "code",
   "execution_count": 79,
   "metadata": {},
   "outputs": [
    {
     "data": {
      "text/plain": [
       "(np.float64(25.852643348533984), np.float64(26.595699249672645))"
      ]
     },
     "execution_count": 79,
     "metadata": {},
     "output_type": "execute_result"
    }
   ],
   "source": [
    "Bs = []\n",
    "\n",
    "N = 70\n",
    "samples = subsample(Y, N, True)\n",
    "mean = MU\n",
    "std = SIGMA ** 0.5\n",
    "skewness = np.mean(((samples - MU) / std) ** 3)\n",
    "Bs.append(skewness)\n",
    "\n",
    "base = (skewness - MU) / ((SIGMA ** 0.5) / (N ** 0.5))\n",
    "left, right = skewness - 1.96 * (SIGMA ** 0.5) / (N ** 0.5), skewness + 1.96 * (SIGMA ** 0.5) / (N ** 0.5)\n",
    "\n",
    "left, right"
   ]
  },
  {
   "cell_type": "code",
   "execution_count": null,
   "metadata": {},
   "outputs": [],
   "source": []
  },
  {
   "cell_type": "code",
   "execution_count": null,
   "metadata": {},
   "outputs": [],
   "source": []
  }
 ],
 "metadata": {
  "kernelspec": {
   "display_name": "env",
   "language": "python",
   "name": "python3"
  },
  "language_info": {
   "codemirror_mode": {
    "name": "ipython",
    "version": 3
   },
   "file_extension": ".py",
   "mimetype": "text/x-python",
   "name": "python",
   "nbconvert_exporter": "python",
   "pygments_lexer": "ipython3",
   "version": "3.12.9"
  }
 },
 "nbformat": 4,
 "nbformat_minor": 2
}
